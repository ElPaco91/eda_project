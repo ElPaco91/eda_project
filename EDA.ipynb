{
 "cells": [
  {
   "cell_type": "markdown",
   "metadata": {},
   "source": [
    "# EDA\n",
    "\n",
    "![](data:image/jpeg;base64,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)"
   ]
  },
  {
   "cell_type": "code",
   "execution_count": 1,
   "metadata": {
    "tags": []
   },
   "outputs": [],
   "source": [
    "# load modules\n",
    "import warnings\n",
    "\n",
    "warnings.filterwarnings(\"ignore\")\n",
    "\n",
    "import pandas as pd\n",
    "import numpy as np\n",
    "import matplotlib.pyplot as plt\n",
    "import seaborn as sns\n",
    "\n",
    "\n",
    "from matplotlib.ticker import PercentFormatter\n",
    "plt.rcParams.update({ \"figure.figsize\" : (8, 8),\"axes.facecolor\" : \"white\", \"axes.edgecolor\":  \"black\", \"axes.labelsize\": 14, 'xtick.labelsize': 12, 'ytick.labelsize': 12, 'axes.titlesize': 14})\n",
    "plt.rcParams[\"figure.facecolor\"]= \"w\"\n",
    "pd.plotting.register_matplotlib_converters()\n",
    "pd.set_option('display.float_format', lambda x: '%.3f' % x)"
   ]
  },
  {
   "cell_type": "markdown",
   "metadata": {},
   "source": [
    "# 1. Business Case\n",
    "---\n",
    "\n",
    "Client: Charles Christensen <br></br>\n",
    "Type: Seller <br></br>\n",
    "Needs:\n",
    " * Invest with big returns\n",
    " * Is renovation worth it?\n",
    " * Which neighborhoods are appropriate?\n",
    " * When is the best timing for actions?\n",
    "\n",
    "---\n"
   ]
  },
  {
   "cell_type": "markdown",
   "metadata": {},
   "source": [
    "## 2. Data Browsing\n",
    "### 2.1 Sales\n",
    "First, check out the data containing the sales for each house-ID by date."
   ]
  },
  {
   "cell_type": "code",
   "execution_count": 2,
   "metadata": {
    "tags": []
   },
   "outputs": [
    {
     "data": {
      "text/html": [
       "<div>\n",
       "<style scoped>\n",
       "    .dataframe tbody tr th:only-of-type {\n",
       "        vertical-align: middle;\n",
       "    }\n",
       "\n",
       "    .dataframe tbody tr th {\n",
       "        vertical-align: top;\n",
       "    }\n",
       "\n",
       "    .dataframe thead th {\n",
       "        text-align: right;\n",
       "    }\n",
       "</style>\n",
       "<table border=\"1\" class=\"dataframe\">\n",
       "  <thead>\n",
       "    <tr style=\"text-align: right;\">\n",
       "      <th></th>\n",
       "      <th>date</th>\n",
       "      <th>price</th>\n",
       "      <th>house_id</th>\n",
       "      <th>id</th>\n",
       "    </tr>\n",
       "  </thead>\n",
       "  <tbody>\n",
       "    <tr>\n",
       "      <th>0</th>\n",
       "      <td>2014-10-13</td>\n",
       "      <td>221900.000</td>\n",
       "      <td>7129300520</td>\n",
       "      <td>1</td>\n",
       "    </tr>\n",
       "    <tr>\n",
       "      <th>1</th>\n",
       "      <td>2014-12-09</td>\n",
       "      <td>538000.000</td>\n",
       "      <td>6414100192</td>\n",
       "      <td>2</td>\n",
       "    </tr>\n",
       "    <tr>\n",
       "      <th>2</th>\n",
       "      <td>2015-02-25</td>\n",
       "      <td>180000.000</td>\n",
       "      <td>5631500400</td>\n",
       "      <td>3</td>\n",
       "    </tr>\n",
       "    <tr>\n",
       "      <th>3</th>\n",
       "      <td>2014-12-09</td>\n",
       "      <td>604000.000</td>\n",
       "      <td>2487200875</td>\n",
       "      <td>4</td>\n",
       "    </tr>\n",
       "    <tr>\n",
       "      <th>4</th>\n",
       "      <td>2015-02-18</td>\n",
       "      <td>510000.000</td>\n",
       "      <td>1954400510</td>\n",
       "      <td>5</td>\n",
       "    </tr>\n",
       "  </tbody>\n",
       "</table>\n",
       "</div>"
      ],
      "text/plain": [
       "         date      price    house_id  id\n",
       "0  2014-10-13 221900.000  7129300520   1\n",
       "1  2014-12-09 538000.000  6414100192   2\n",
       "2  2015-02-25 180000.000  5631500400   3\n",
       "3  2014-12-09 604000.000  2487200875   4\n",
       "4  2015-02-18 510000.000  1954400510   5"
      ]
     },
     "execution_count": 2,
     "metadata": {},
     "output_type": "execute_result"
    }
   ],
   "source": [
    "# load data and get first overview\n",
    "df_sales = pd.read_csv('./data/eda.csv')\n",
    "df_sales.head()"
   ]
  },
  {
   "cell_type": "code",
   "execution_count": 3,
   "metadata": {
    "tags": []
   },
   "outputs": [
    {
     "name": "stdout",
     "output_type": "stream",
     "text": [
      "<class 'pandas.core.frame.DataFrame'>\n",
      "RangeIndex: 21597 entries, 0 to 21596\n",
      "Data columns (total 4 columns):\n",
      " #   Column    Non-Null Count  Dtype  \n",
      "---  ------    --------------  -----  \n",
      " 0   date      21597 non-null  object \n",
      " 1   price     21597 non-null  float64\n",
      " 2   house_id  21597 non-null  int64  \n",
      " 3   id        21597 non-null  int64  \n",
      "dtypes: float64(1), int64(2), object(1)\n",
      "memory usage: 675.0+ KB\n"
     ]
    }
   ],
   "source": [
    "# check structure of data set:\n",
    "df_sales.info()"
   ]
  },
  {
   "cell_type": "code",
   "execution_count": 4,
   "metadata": {
    "tags": []
   },
   "outputs": [
    {
     "data": {
      "text/plain": [
       "0"
      ]
     },
     "execution_count": 4,
     "metadata": {},
     "output_type": "execute_result"
    }
   ],
   "source": [
    "# check for duplicates\n",
    "df_sales.duplicated().sum()"
   ]
  },
  {
   "cell_type": "code",
   "execution_count": 5,
   "metadata": {},
   "outputs": [
    {
     "data": {
      "text/plain": [
       "21420"
      ]
     },
     "execution_count": 5,
     "metadata": {},
     "output_type": "execute_result"
    }
   ],
   "source": [
    "# check if houses are unique\n",
    "df_sales.house_id.nunique()"
   ]
  },
  {
   "cell_type": "markdown",
   "metadata": {},
   "source": [
    "21420 out of 21597 houses are unique, so probably some were sold multiple times. From the .info() we can also see that there are no NA's in the dataset."
   ]
  },
  {
   "cell_type": "code",
   "execution_count": 6,
   "metadata": {
    "tags": []
   },
   "outputs": [
    {
     "data": {
      "text/plain": [
       "Index(['date', 'price', 'house_id', 'id'], dtype='object')"
      ]
     },
     "execution_count": 6,
     "metadata": {},
     "output_type": "execute_result"
    }
   ],
   "source": [
    "# check column names for trailing whitespace:\n",
    "df_sales.columns"
   ]
  },
  {
   "cell_type": "markdown",
   "metadata": {},
   "source": [
    "#### Info on sales dataset:\n",
    " * The dataset contains 21597 entries by 4 columns.\n",
    " * The column \"date\" is currently an object and should be converted.\n",
    " * There are no duplicate values.\n",
    " * Some houses are probably sold multiple times.\n",
    " * There are no *obvious* missing values.\n",
    "\n",
    "This dataset by itself can already tell me the seasonality of overall sales, prices, and the interaction of sales and prices.\n",
    "I can also check how often individual houses are sold and what the average hold-period looks like.\n",
    "\n",
    "---"
   ]
  },
  {
   "cell_type": "markdown",
   "metadata": {},
   "source": [
    "### 2.2 Details of houses\n",
    "Now, I check the dataset for the house details."
   ]
  },
  {
   "cell_type": "code",
   "execution_count": 7,
   "metadata": {
    "tags": []
   },
   "outputs": [
    {
     "data": {
      "text/html": [
       "<div>\n",
       "<style scoped>\n",
       "    .dataframe tbody tr th:only-of-type {\n",
       "        vertical-align: middle;\n",
       "    }\n",
       "\n",
       "    .dataframe tbody tr th {\n",
       "        vertical-align: top;\n",
       "    }\n",
       "\n",
       "    .dataframe thead th {\n",
       "        text-align: right;\n",
       "    }\n",
       "</style>\n",
       "<table border=\"1\" class=\"dataframe\">\n",
       "  <thead>\n",
       "    <tr style=\"text-align: right;\">\n",
       "      <th></th>\n",
       "      <th>id</th>\n",
       "      <th>bedrooms</th>\n",
       "      <th>bathrooms</th>\n",
       "      <th>sqft_living</th>\n",
       "      <th>sqft_lot</th>\n",
       "      <th>floors</th>\n",
       "      <th>waterfront</th>\n",
       "      <th>view</th>\n",
       "      <th>condition</th>\n",
       "      <th>grade</th>\n",
       "      <th>sqft_above</th>\n",
       "      <th>sqft_basement</th>\n",
       "      <th>yr_built</th>\n",
       "      <th>yr_renovated</th>\n",
       "      <th>zipcode</th>\n",
       "      <th>lat</th>\n",
       "      <th>long</th>\n",
       "      <th>sqft_living15</th>\n",
       "      <th>sqft_lot15</th>\n",
       "    </tr>\n",
       "  </thead>\n",
       "  <tbody>\n",
       "    <tr>\n",
       "      <th>0</th>\n",
       "      <td>1000102</td>\n",
       "      <td>6.000</td>\n",
       "      <td>3.000</td>\n",
       "      <td>2400.000</td>\n",
       "      <td>9373.000</td>\n",
       "      <td>2.000</td>\n",
       "      <td>NaN</td>\n",
       "      <td>0.000</td>\n",
       "      <td>3</td>\n",
       "      <td>7</td>\n",
       "      <td>2400.000</td>\n",
       "      <td>0.000</td>\n",
       "      <td>1991</td>\n",
       "      <td>0.000</td>\n",
       "      <td>98002</td>\n",
       "      <td>47.326</td>\n",
       "      <td>-122.214</td>\n",
       "      <td>2060.000</td>\n",
       "      <td>7316.000</td>\n",
       "    </tr>\n",
       "    <tr>\n",
       "      <th>1</th>\n",
       "      <td>100100050</td>\n",
       "      <td>3.000</td>\n",
       "      <td>1.000</td>\n",
       "      <td>1320.000</td>\n",
       "      <td>11090.000</td>\n",
       "      <td>1.000</td>\n",
       "      <td>0.000</td>\n",
       "      <td>0.000</td>\n",
       "      <td>3</td>\n",
       "      <td>7</td>\n",
       "      <td>1320.000</td>\n",
       "      <td>0.000</td>\n",
       "      <td>1955</td>\n",
       "      <td>0.000</td>\n",
       "      <td>98155</td>\n",
       "      <td>47.775</td>\n",
       "      <td>-122.304</td>\n",
       "      <td>1320.000</td>\n",
       "      <td>8319.000</td>\n",
       "    </tr>\n",
       "    <tr>\n",
       "      <th>2</th>\n",
       "      <td>1001200035</td>\n",
       "      <td>3.000</td>\n",
       "      <td>1.000</td>\n",
       "      <td>1350.000</td>\n",
       "      <td>7973.000</td>\n",
       "      <td>1.500</td>\n",
       "      <td>NaN</td>\n",
       "      <td>0.000</td>\n",
       "      <td>3</td>\n",
       "      <td>7</td>\n",
       "      <td>1350.000</td>\n",
       "      <td>0.000</td>\n",
       "      <td>1954</td>\n",
       "      <td>0.000</td>\n",
       "      <td>98188</td>\n",
       "      <td>47.432</td>\n",
       "      <td>-122.292</td>\n",
       "      <td>1310.000</td>\n",
       "      <td>7491.000</td>\n",
       "    </tr>\n",
       "    <tr>\n",
       "      <th>3</th>\n",
       "      <td>1001200050</td>\n",
       "      <td>4.000</td>\n",
       "      <td>1.500</td>\n",
       "      <td>1260.000</td>\n",
       "      <td>7248.000</td>\n",
       "      <td>1.500</td>\n",
       "      <td>NaN</td>\n",
       "      <td>0.000</td>\n",
       "      <td>5</td>\n",
       "      <td>7</td>\n",
       "      <td>1260.000</td>\n",
       "      <td>0.000</td>\n",
       "      <td>1955</td>\n",
       "      <td>NaN</td>\n",
       "      <td>98188</td>\n",
       "      <td>47.433</td>\n",
       "      <td>-122.292</td>\n",
       "      <td>1300.000</td>\n",
       "      <td>7732.000</td>\n",
       "    </tr>\n",
       "    <tr>\n",
       "      <th>4</th>\n",
       "      <td>1003000175</td>\n",
       "      <td>3.000</td>\n",
       "      <td>1.000</td>\n",
       "      <td>980.000</td>\n",
       "      <td>7606.000</td>\n",
       "      <td>1.000</td>\n",
       "      <td>0.000</td>\n",
       "      <td>0.000</td>\n",
       "      <td>3</td>\n",
       "      <td>7</td>\n",
       "      <td>980.000</td>\n",
       "      <td>0.000</td>\n",
       "      <td>1954</td>\n",
       "      <td>0.000</td>\n",
       "      <td>98188</td>\n",
       "      <td>47.436</td>\n",
       "      <td>-122.290</td>\n",
       "      <td>980.000</td>\n",
       "      <td>8125.000</td>\n",
       "    </tr>\n",
       "  </tbody>\n",
       "</table>\n",
       "</div>"
      ],
      "text/plain": [
       "           id  bedrooms  bathrooms  sqft_living  sqft_lot  floors  waterfront  \\\n",
       "0     1000102     6.000      3.000     2400.000  9373.000   2.000         NaN   \n",
       "1   100100050     3.000      1.000     1320.000 11090.000   1.000       0.000   \n",
       "2  1001200035     3.000      1.000     1350.000  7973.000   1.500         NaN   \n",
       "3  1001200050     4.000      1.500     1260.000  7248.000   1.500         NaN   \n",
       "4  1003000175     3.000      1.000      980.000  7606.000   1.000       0.000   \n",
       "\n",
       "   view  condition  grade  sqft_above  sqft_basement  yr_built  yr_renovated  \\\n",
       "0 0.000          3      7    2400.000          0.000      1991         0.000   \n",
       "1 0.000          3      7    1320.000          0.000      1955         0.000   \n",
       "2 0.000          3      7    1350.000          0.000      1954         0.000   \n",
       "3 0.000          5      7    1260.000          0.000      1955           NaN   \n",
       "4 0.000          3      7     980.000          0.000      1954         0.000   \n",
       "\n",
       "   zipcode    lat     long  sqft_living15  sqft_lot15  \n",
       "0    98002 47.326 -122.214       2060.000    7316.000  \n",
       "1    98155 47.775 -122.304       1320.000    8319.000  \n",
       "2    98188 47.432 -122.292       1310.000    7491.000  \n",
       "3    98188 47.433 -122.292       1300.000    7732.000  \n",
       "4    98188 47.436 -122.290        980.000    8125.000  "
      ]
     },
     "execution_count": 7,
     "metadata": {},
     "output_type": "execute_result"
    }
   ],
   "source": [
    "df_detail = pd.read_csv('./data/eda_details.csv')\n",
    "df_detail.head()"
   ]
  },
  {
   "cell_type": "code",
   "execution_count": 8,
   "metadata": {
    "tags": []
   },
   "outputs": [
    {
     "name": "stdout",
     "output_type": "stream",
     "text": [
      "<class 'pandas.core.frame.DataFrame'>\n",
      "RangeIndex: 21420 entries, 0 to 21419\n",
      "Data columns (total 19 columns):\n",
      " #   Column         Non-Null Count  Dtype  \n",
      "---  ------         --------------  -----  \n",
      " 0   id             21420 non-null  int64  \n",
      " 1   bedrooms       21420 non-null  float64\n",
      " 2   bathrooms      21420 non-null  float64\n",
      " 3   sqft_living    21420 non-null  float64\n",
      " 4   sqft_lot       21420 non-null  float64\n",
      " 5   floors         21420 non-null  float64\n",
      " 6   waterfront     19060 non-null  float64\n",
      " 7   view           21357 non-null  float64\n",
      " 8   condition      21420 non-null  int64  \n",
      " 9   grade          21420 non-null  int64  \n",
      " 10  sqft_above     21420 non-null  float64\n",
      " 11  sqft_basement  20969 non-null  float64\n",
      " 12  yr_built       21420 non-null  int64  \n",
      " 13  yr_renovated   17609 non-null  float64\n",
      " 14  zipcode        21420 non-null  int64  \n",
      " 15  lat            21420 non-null  float64\n",
      " 16  long           21420 non-null  float64\n",
      " 17  sqft_living15  21420 non-null  float64\n",
      " 18  sqft_lot15     21420 non-null  float64\n",
      "dtypes: float64(14), int64(5)\n",
      "memory usage: 3.1 MB\n"
     ]
    }
   ],
   "source": [
    "df_detail.info()"
   ]
  },
  {
   "cell_type": "code",
   "execution_count": 9,
   "metadata": {
    "tags": []
   },
   "outputs": [
    {
     "data": {
      "text/plain": [
       "0"
      ]
     },
     "execution_count": 9,
     "metadata": {},
     "output_type": "execute_result"
    }
   ],
   "source": [
    "df_detail.duplicated().sum()"
   ]
  },
  {
   "cell_type": "code",
   "execution_count": 10,
   "metadata": {
    "tags": []
   },
   "outputs": [
    {
     "data": {
      "text/plain": [
       "Index(['id', 'bedrooms', 'bathrooms', 'sqft_living', 'sqft_lot', 'floors',\n",
       "       'waterfront', 'view', 'condition', 'grade', 'sqft_above',\n",
       "       'sqft_basement', 'yr_built', 'yr_renovated', 'zipcode', 'lat', 'long',\n",
       "       'sqft_living15', 'sqft_lot15'],\n",
       "      dtype='object')"
      ]
     },
     "execution_count": 10,
     "metadata": {},
     "output_type": "execute_result"
    }
   ],
   "source": [
    "# check column names for trailing whitespace:\n",
    "df_detail.columns"
   ]
  },
  {
   "cell_type": "markdown",
   "metadata": {},
   "source": [
    "#### Info on detail dataset:\n",
    " * The detail dataset contains 21420 entries on 19 columns. -> Fitting the nr. of unqiue houses.\n",
    " * The columns waterfront, view, sqft_basement, yr_renovated contain missing values.\n",
    " * Sceptic about the Dtype of some variables, like 'view', 'grade'.\n",
    " * Change type of Zipcode to object.\n",
    " * Sometimes not really clear what the columns describe.\n",
    "\n",
    "From this first glance not everything about this dataset is clear. Further investigation is needed to understand the value of each variable.\n",
    "Informations can be found in the `column_names.md` file.\n",
    " \n",
    "Check variables for further details:"
   ]
  },
  {
   "cell_type": "code",
   "execution_count": 11,
   "metadata": {
    "tags": []
   },
   "outputs": [
    {
     "data": {
      "text/plain": [
       "array([ 0.,  3.,  2.,  4.,  1., nan])"
      ]
     },
     "execution_count": 11,
     "metadata": {},
     "output_type": "execute_result"
    }
   ],
   "source": [
    "# View\n",
    "df_detail.view.unique()\n",
    "# categorical, but quality not clear of each category not clear yet."
   ]
  },
  {
   "cell_type": "code",
   "execution_count": 12,
   "metadata": {
    "tags": []
   },
   "outputs": [
    {
     "data": {
      "text/plain": [
       "array([ 7,  6,  8, 10,  5,  9, 11, 13, 12,  4,  3])"
      ]
     },
     "execution_count": 12,
     "metadata": {},
     "output_type": "execute_result"
    }
   ],
   "source": [
    "df_detail.grade.unique()\n",
    "# 10 different grades, ranging from 3 to 13. Again, quality not clear."
   ]
  },
  {
   "cell_type": "markdown",
   "metadata": {},
   "source": [
    "## 3. Clean and explore data\n",
    "### 3.1 Sales"
   ]
  },
  {
   "cell_type": "markdown",
   "metadata": {},
   "source": [
    "#### 3.1.1 Cleaning"
   ]
  },
  {
   "cell_type": "code",
   "execution_count": 13,
   "metadata": {
    "tags": []
   },
   "outputs": [],
   "source": [
    "# change date to a datetime format\n",
    "df_sales.date = pd.to_datetime(df_sales.date, format = '%Y-%m-%d')\n",
    "df_sales.id = df_sales.id.astype(object)\n",
    "df_sales.house_id = df_sales.house_id.astype(object)"
   ]
  },
  {
   "cell_type": "code",
   "execution_count": 14,
   "metadata": {
    "tags": []
   },
   "outputs": [
    {
     "name": "stdout",
     "output_type": "stream",
     "text": [
      "<class 'pandas.core.frame.DataFrame'>\n",
      "RangeIndex: 21597 entries, 0 to 21596\n",
      "Data columns (total 4 columns):\n",
      " #   Column    Non-Null Count  Dtype         \n",
      "---  ------    --------------  -----         \n",
      " 0   date      21597 non-null  datetime64[ns]\n",
      " 1   price     21597 non-null  float64       \n",
      " 2   house_id  21597 non-null  object        \n",
      " 3   id        21597 non-null  object        \n",
      "dtypes: datetime64[ns](1), float64(1), object(2)\n",
      "memory usage: 675.0+ KB\n",
      "None\n",
      "        date      price    house_id id\n",
      "0 2014-10-13 221900.000  7129300520  1\n",
      "1 2014-12-09 538000.000  6414100192  2\n",
      "2 2015-02-25 180000.000  5631500400  3\n",
      "3 2014-12-09 604000.000  2487200875  4\n",
      "4 2015-02-18 510000.000  1954400510  5\n"
     ]
    }
   ],
   "source": [
    "print(df_sales.info())\n",
    "print(df_sales.head())"
   ]
  },
  {
   "cell_type": "markdown",
   "metadata": {},
   "source": [
    "#### 3.1.2 Exploration"
   ]
  },
  {
   "cell_type": "code",
   "execution_count": 15,
   "metadata": {
    "tags": []
   },
   "outputs": [
    {
     "data": {
      "text/html": [
       "<div>\n",
       "<style scoped>\n",
       "    .dataframe tbody tr th:only-of-type {\n",
       "        vertical-align: middle;\n",
       "    }\n",
       "\n",
       "    .dataframe tbody tr th {\n",
       "        vertical-align: top;\n",
       "    }\n",
       "\n",
       "    .dataframe thead th {\n",
       "        text-align: right;\n",
       "    }\n",
       "</style>\n",
       "<table border=\"1\" class=\"dataframe\">\n",
       "  <thead>\n",
       "    <tr style=\"text-align: right;\">\n",
       "      <th></th>\n",
       "      <th>date</th>\n",
       "      <th>price</th>\n",
       "    </tr>\n",
       "  </thead>\n",
       "  <tbody>\n",
       "    <tr>\n",
       "      <th>count</th>\n",
       "      <td>21597</td>\n",
       "      <td>21597.000</td>\n",
       "    </tr>\n",
       "    <tr>\n",
       "      <th>mean</th>\n",
       "      <td>2014-10-29 04:20:38.171968512</td>\n",
       "      <td>540296.574</td>\n",
       "    </tr>\n",
       "    <tr>\n",
       "      <th>min</th>\n",
       "      <td>2014-05-02 00:00:00</td>\n",
       "      <td>78000.000</td>\n",
       "    </tr>\n",
       "    <tr>\n",
       "      <th>25%</th>\n",
       "      <td>2014-07-22 00:00:00</td>\n",
       "      <td>322000.000</td>\n",
       "    </tr>\n",
       "    <tr>\n",
       "      <th>50%</th>\n",
       "      <td>2014-10-16 00:00:00</td>\n",
       "      <td>450000.000</td>\n",
       "    </tr>\n",
       "    <tr>\n",
       "      <th>75%</th>\n",
       "      <td>2015-02-17 00:00:00</td>\n",
       "      <td>645000.000</td>\n",
       "    </tr>\n",
       "    <tr>\n",
       "      <th>max</th>\n",
       "      <td>2015-05-27 00:00:00</td>\n",
       "      <td>7700000.000</td>\n",
       "    </tr>\n",
       "    <tr>\n",
       "      <th>std</th>\n",
       "      <td>NaN</td>\n",
       "      <td>367368.140</td>\n",
       "    </tr>\n",
       "  </tbody>\n",
       "</table>\n",
       "</div>"
      ],
      "text/plain": [
       "                                date       price\n",
       "count                          21597   21597.000\n",
       "mean   2014-10-29 04:20:38.171968512  540296.574\n",
       "min              2014-05-02 00:00:00   78000.000\n",
       "25%              2014-07-22 00:00:00  322000.000\n",
       "50%              2014-10-16 00:00:00  450000.000\n",
       "75%              2015-02-17 00:00:00  645000.000\n",
       "max              2015-05-27 00:00:00 7700000.000\n",
       "std                              NaN  367368.140"
      ]
     },
     "execution_count": 15,
     "metadata": {},
     "output_type": "execute_result"
    }
   ],
   "source": [
    "# Check numeric variables:\n",
    "df_sales.describe()"
   ]
  },
  {
   "cell_type": "markdown",
   "metadata": {},
   "source": [
    "Info's gained from numeric variables:\n",
    " * The time of the dataset ranges from 02-05-2014 to 27-05-2015, so roughly one full year.\n",
    " * Prices range from 78.000 (probably US-Dollar) up to 7.7 million.\n",
    " * The average house prices lies at 540.000 Dollar, the median at 450.000 Dollar, indicating potential outliers on the higher priced segment."
   ]
  },
  {
   "cell_type": "code",
   "execution_count": 16,
   "metadata": {
    "tags": []
   },
   "outputs": [
    {
     "data": {
      "image/png": "[encoded data removed]",
      "text/plain": [
       "<Figure size 800x800 with 1 Axes>"
      ]
     },
     "metadata": {},
     "output_type": "display_data"
    }
   ],
   "source": [
    "# How does the price distribution look like?\n",
    "price_hist = sns.histplot(df_sales, x = 'price',\n",
    "                         color = '#a3b0ce')\n",
    "sns.despine(top=True, right=True, left=False, bottom=False)\n",
    "plt.title('Histogram of all sales prices', loc = 'left')\n",
    "plt.xlabel('House prices [US-$]')\n",
    "price_hist.axvline(df_sales.price.mean(), color = 'black', ls = ':')\n",
    "\n",
    "fig = price_hist.get_figure()\n",
    "fig.savefig(\"./plots/exploration/01_price_hist.png\")"
   ]
  },
  {
   "cell_type": "code",
   "execution_count": 17,
   "metadata": {
    "tags": []
   },
   "outputs": [
    {
     "data": {
      "text/plain": [
       "house_id\n",
       "795000620     3\n",
       "8910500150    2\n",
       "7409700215    2\n",
       "1995200200    2\n",
       "9211500620    2\n",
       "             ..\n",
       "3649100387    1\n",
       "2767603649    1\n",
       "1446403617    1\n",
       "5602000275    1\n",
       "1523300157    1\n",
       "Name: count, Length: 21420, dtype: int64"
      ]
     },
     "execution_count": 17,
     "metadata": {},
     "output_type": "execute_result"
    }
   ],
   "source": [
    "# How often do individual houses get sold within a year?\n",
    "df_sales.house_id.value_counts()"
   ]
  },
  {
   "cell_type": "code",
   "execution_count": 18,
   "metadata": {
    "tags": []
   },
   "outputs": [
    {
     "data": {
      "text/html": [
       "<div>\n",
       "<style scoped>\n",
       "    .dataframe tbody tr th:only-of-type {\n",
       "        vertical-align: middle;\n",
       "    }\n",
       "\n",
       "    .dataframe tbody tr th {\n",
       "        vertical-align: top;\n",
       "    }\n",
       "\n",
       "    .dataframe thead th {\n",
       "        text-align: right;\n",
       "    }\n",
       "</style>\n",
       "<table border=\"1\" class=\"dataframe\">\n",
       "  <thead>\n",
       "    <tr style=\"text-align: right;\">\n",
       "      <th></th>\n",
       "      <th>date</th>\n",
       "      <th>price</th>\n",
       "      <th>house_id</th>\n",
       "      <th>id</th>\n",
       "      <th>year_month</th>\n",
       "    </tr>\n",
       "  </thead>\n",
       "  <tbody>\n",
       "    <tr>\n",
       "      <th>0</th>\n",
       "      <td>2014-10-13</td>\n",
       "      <td>221900.000</td>\n",
       "      <td>7129300520</td>\n",
       "      <td>1</td>\n",
       "      <td>2014-10</td>\n",
       "    </tr>\n",
       "    <tr>\n",
       "      <th>1</th>\n",
       "      <td>2014-12-09</td>\n",
       "      <td>538000.000</td>\n",
       "      <td>6414100192</td>\n",
       "      <td>2</td>\n",
       "      <td>2014-12</td>\n",
       "    </tr>\n",
       "    <tr>\n",
       "      <th>2</th>\n",
       "      <td>2015-02-25</td>\n",
       "      <td>180000.000</td>\n",
       "      <td>5631500400</td>\n",
       "      <td>3</td>\n",
       "      <td>2015-02</td>\n",
       "    </tr>\n",
       "    <tr>\n",
       "      <th>3</th>\n",
       "      <td>2014-12-09</td>\n",
       "      <td>604000.000</td>\n",
       "      <td>2487200875</td>\n",
       "      <td>4</td>\n",
       "      <td>2014-12</td>\n",
       "    </tr>\n",
       "    <tr>\n",
       "      <th>4</th>\n",
       "      <td>2015-02-18</td>\n",
       "      <td>510000.000</td>\n",
       "      <td>1954400510</td>\n",
       "      <td>5</td>\n",
       "      <td>2015-02</td>\n",
       "    </tr>\n",
       "  </tbody>\n",
       "</table>\n",
       "</div>"
      ],
      "text/plain": [
       "        date      price    house_id id year_month\n",
       "0 2014-10-13 221900.000  7129300520  1    2014-10\n",
       "1 2014-12-09 538000.000  6414100192  2    2014-12\n",
       "2 2015-02-25 180000.000  5631500400  3    2015-02\n",
       "3 2014-12-09 604000.000  2487200875  4    2014-12\n",
       "4 2015-02-18 510000.000  1954400510  5    2015-02"
      ]
     },
     "execution_count": 18,
     "metadata": {},
     "output_type": "execute_result"
    }
   ],
   "source": [
    "# Check out the temporal fluctuation of sales.\n",
    "df_sales['year_month'] = df_sales.date.dt.to_period('M')\n",
    "df_sales.head()"
   ]
  },
  {
   "cell_type": "code",
   "execution_count": 19,
   "metadata": {
    "tags": []
   },
   "outputs": [
    {
     "data": {
      "text/html": [
       "<div>\n",
       "<style scoped>\n",
       "    .dataframe tbody tr th:only-of-type {\n",
       "        vertical-align: middle;\n",
       "    }\n",
       "\n",
       "    .dataframe tbody tr th {\n",
       "        vertical-align: top;\n",
       "    }\n",
       "\n",
       "    .dataframe thead th {\n",
       "        text-align: right;\n",
       "    }\n",
       "</style>\n",
       "<table border=\"1\" class=\"dataframe\">\n",
       "  <thead>\n",
       "    <tr style=\"text-align: right;\">\n",
       "      <th></th>\n",
       "      <th>date</th>\n",
       "      <th>price</th>\n",
       "      <th>house_id</th>\n",
       "      <th>id</th>\n",
       "      <th>year_month</th>\n",
       "    </tr>\n",
       "  </thead>\n",
       "  <tbody>\n",
       "    <tr>\n",
       "      <th>13153</th>\n",
       "      <td>2014-05-03</td>\n",
       "      <td>379880.000</td>\n",
       "      <td>1523069197</td>\n",
       "      <td>13154</td>\n",
       "      <td>2014-05</td>\n",
       "    </tr>\n",
       "    <tr>\n",
       "      <th>5350</th>\n",
       "      <td>2014-05-14</td>\n",
       "      <td>766950.000</td>\n",
       "      <td>7574910780</td>\n",
       "      <td>5351</td>\n",
       "      <td>2014-05</td>\n",
       "    </tr>\n",
       "    <tr>\n",
       "      <th>9380</th>\n",
       "      <td>2014-05-09</td>\n",
       "      <td>201500.000</td>\n",
       "      <td>8857600490</td>\n",
       "      <td>9381</td>\n",
       "      <td>2014-05</td>\n",
       "    </tr>\n",
       "    <tr>\n",
       "      <th>16328</th>\n",
       "      <td>2014-05-07</td>\n",
       "      <td>280000.000</td>\n",
       "      <td>2895550280</td>\n",
       "      <td>16329</td>\n",
       "      <td>2014-05</td>\n",
       "    </tr>\n",
       "    <tr>\n",
       "      <th>1832</th>\n",
       "      <td>2014-05-21</td>\n",
       "      <td>189650.000</td>\n",
       "      <td>9315300260</td>\n",
       "      <td>1833</td>\n",
       "      <td>2014-05</td>\n",
       "    </tr>\n",
       "  </tbody>\n",
       "</table>\n",
       "</div>"
      ],
      "text/plain": [
       "            date      price    house_id     id year_month\n",
       "13153 2014-05-03 379880.000  1523069197  13154    2014-05\n",
       "5350  2014-05-14 766950.000  7574910780   5351    2014-05\n",
       "9380  2014-05-09 201500.000  8857600490   9381    2014-05\n",
       "16328 2014-05-07 280000.000  2895550280  16329    2014-05\n",
       "1832  2014-05-21 189650.000  9315300260   1833    2014-05"
      ]
     },
     "execution_count": 19,
     "metadata": {},
     "output_type": "execute_result"
    }
   ],
   "source": [
    "df_sales = df_sales.sort_values('year_month')\n",
    "df_sales.head()"
   ]
  },
  {
   "cell_type": "code",
   "execution_count": 20,
   "metadata": {
    "tags": []
   },
   "outputs": [
    {
     "data": {
      "image/png": "[encoded data removed]",
      "text/plain": [
       "<Figure size 800x800 with 1 Axes>"
      ]
     },
     "metadata": {},
     "output_type": "display_data"
    }
   ],
   "source": [
    "# check prices per month\n",
    "price_per_month = sns.barplot(df_sales,\n",
    "           x = 'year_month',\n",
    "           y = 'price',\n",
    "           color = '#a3b0ce',\n",
    "           ci = False)\n",
    "\n",
    "sns.despine(top=True, right=True, left=False, bottom=False)\n",
    "price_per_month.axhline(df_sales.price.mean(), color = 'red')\n",
    "price_per_month.set_xticklabels(price_per_month.get_xticklabels(), rotation = 45)\n",
    "plt.title('Temporal price development of houses in King County', loc = 'left')\n",
    "plt.xlabel(None)\n",
    "plt.ylabel('House prices [US-$]')\n",
    "\n",
    "fig = price_per_month.get_figure()\n",
    "fig.savefig(\"./plots/exploration/02_price_temp.png\")"
   ]
  },
  {
   "cell_type": "markdown",
   "metadata": {
    "tags": []
   },
   "source": [
    "##### Insights\n",
    " * 75 % of the houses are sold for less than 645.000 US-Dollar.\n",
    " * Only 176 houses, representing 0.8% of the overall houses, get re-sold within a year.\n",
    " * Looking at all houses, prices drop in winter but reach their max between April and July."
   ]
  },
  {
   "cell_type": "markdown",
   "metadata": {
    "tags": []
   },
   "source": [
    "### 3.2 House Details"
   ]
  },
  {
   "cell_type": "code",
   "execution_count": 21,
   "metadata": {
    "tags": []
   },
   "outputs": [],
   "source": [
    "# change zipcode to an object dtype\n",
    "df_detail.zipcode = df_detail.zipcode.astype(object)"
   ]
  },
  {
   "cell_type": "code",
   "execution_count": 22,
   "metadata": {
    "tags": []
   },
   "outputs": [
    {
     "data": {
      "text/plain": [
       "2360"
      ]
     },
     "execution_count": 22,
     "metadata": {},
     "output_type": "execute_result"
    }
   ],
   "source": [
    "# Check the waterfront\n",
    "df_detail.waterfront.unique()\n",
    "\n",
    "# Output is binary. So what does 'nan' mean in this context? Maybe check Houses of the same ZipCode. \n",
    "# When all do not have a waterfront, it is pretty likely that there is none.\n",
    "# However, currently it is not the most interesting column for me. If necessary, come back later.\n",
    "\n",
    "df_detail.waterfront.isna().sum()"
   ]
  },
  {
   "cell_type": "code",
   "execution_count": 23,
   "metadata": {
    "tags": []
   },
   "outputs": [
    {
     "data": {
      "text/html": [
       "<div>\n",
       "<style scoped>\n",
       "    .dataframe tbody tr th:only-of-type {\n",
       "        vertical-align: middle;\n",
       "    }\n",
       "\n",
       "    .dataframe tbody tr th {\n",
       "        vertical-align: top;\n",
       "    }\n",
       "\n",
       "    .dataframe thead th {\n",
       "        text-align: right;\n",
       "    }\n",
       "</style>\n",
       "<table border=\"1\" class=\"dataframe\">\n",
       "  <thead>\n",
       "    <tr style=\"text-align: right;\">\n",
       "      <th></th>\n",
       "      <th>id</th>\n",
       "      <th>bedrooms</th>\n",
       "      <th>bathrooms</th>\n",
       "      <th>sqft_living</th>\n",
       "      <th>sqft_lot</th>\n",
       "      <th>floors</th>\n",
       "      <th>waterfront</th>\n",
       "      <th>view</th>\n",
       "      <th>condition</th>\n",
       "      <th>grade</th>\n",
       "      <th>sqft_above</th>\n",
       "      <th>sqft_basement</th>\n",
       "      <th>yr_built</th>\n",
       "      <th>yr_renovated</th>\n",
       "      <th>zipcode</th>\n",
       "      <th>lat</th>\n",
       "      <th>long</th>\n",
       "      <th>sqft_living15</th>\n",
       "      <th>sqft_lot15</th>\n",
       "    </tr>\n",
       "  </thead>\n",
       "  <tbody>\n",
       "    <tr>\n",
       "      <th>0</th>\n",
       "      <td>1000102</td>\n",
       "      <td>6.000</td>\n",
       "      <td>3.000</td>\n",
       "      <td>2400.000</td>\n",
       "      <td>9373.000</td>\n",
       "      <td>2.000</td>\n",
       "      <td>NaN</td>\n",
       "      <td>0.000</td>\n",
       "      <td>3</td>\n",
       "      <td>7</td>\n",
       "      <td>2400.000</td>\n",
       "      <td>0.000</td>\n",
       "      <td>1991</td>\n",
       "      <td>0.000</td>\n",
       "      <td>98002</td>\n",
       "      <td>47.326</td>\n",
       "      <td>-122.214</td>\n",
       "      <td>2060.000</td>\n",
       "      <td>7316.000</td>\n",
       "    </tr>\n",
       "    <tr>\n",
       "      <th>1</th>\n",
       "      <td>100100050</td>\n",
       "      <td>3.000</td>\n",
       "      <td>1.000</td>\n",
       "      <td>1320.000</td>\n",
       "      <td>11090.000</td>\n",
       "      <td>1.000</td>\n",
       "      <td>0.000</td>\n",
       "      <td>0.000</td>\n",
       "      <td>3</td>\n",
       "      <td>7</td>\n",
       "      <td>1320.000</td>\n",
       "      <td>0.000</td>\n",
       "      <td>1955</td>\n",
       "      <td>0.000</td>\n",
       "      <td>98155</td>\n",
       "      <td>47.775</td>\n",
       "      <td>-122.304</td>\n",
       "      <td>1320.000</td>\n",
       "      <td>8319.000</td>\n",
       "    </tr>\n",
       "    <tr>\n",
       "      <th>2</th>\n",
       "      <td>1001200035</td>\n",
       "      <td>3.000</td>\n",
       "      <td>1.000</td>\n",
       "      <td>1350.000</td>\n",
       "      <td>7973.000</td>\n",
       "      <td>1.500</td>\n",
       "      <td>NaN</td>\n",
       "      <td>0.000</td>\n",
       "      <td>3</td>\n",
       "      <td>7</td>\n",
       "      <td>1350.000</td>\n",
       "      <td>0.000</td>\n",
       "      <td>1954</td>\n",
       "      <td>0.000</td>\n",
       "      <td>98188</td>\n",
       "      <td>47.432</td>\n",
       "      <td>-122.292</td>\n",
       "      <td>1310.000</td>\n",
       "      <td>7491.000</td>\n",
       "    </tr>\n",
       "    <tr>\n",
       "      <th>3</th>\n",
       "      <td>1001200050</td>\n",
       "      <td>4.000</td>\n",
       "      <td>1.500</td>\n",
       "      <td>1260.000</td>\n",
       "      <td>7248.000</td>\n",
       "      <td>1.500</td>\n",
       "      <td>NaN</td>\n",
       "      <td>0.000</td>\n",
       "      <td>5</td>\n",
       "      <td>7</td>\n",
       "      <td>1260.000</td>\n",
       "      <td>0.000</td>\n",
       "      <td>1955</td>\n",
       "      <td>NaN</td>\n",
       "      <td>98188</td>\n",
       "      <td>47.433</td>\n",
       "      <td>-122.292</td>\n",
       "      <td>1300.000</td>\n",
       "      <td>7732.000</td>\n",
       "    </tr>\n",
       "    <tr>\n",
       "      <th>4</th>\n",
       "      <td>1003000175</td>\n",
       "      <td>3.000</td>\n",
       "      <td>1.000</td>\n",
       "      <td>980.000</td>\n",
       "      <td>7606.000</td>\n",
       "      <td>1.000</td>\n",
       "      <td>0.000</td>\n",
       "      <td>0.000</td>\n",
       "      <td>3</td>\n",
       "      <td>7</td>\n",
       "      <td>980.000</td>\n",
       "      <td>0.000</td>\n",
       "      <td>1954</td>\n",
       "      <td>0.000</td>\n",
       "      <td>98188</td>\n",
       "      <td>47.436</td>\n",
       "      <td>-122.290</td>\n",
       "      <td>980.000</td>\n",
       "      <td>8125.000</td>\n",
       "    </tr>\n",
       "  </tbody>\n",
       "</table>\n",
       "</div>"
      ],
      "text/plain": [
       "           id  bedrooms  bathrooms  sqft_living  sqft_lot  floors  waterfront  \\\n",
       "0     1000102     6.000      3.000     2400.000  9373.000   2.000         NaN   \n",
       "1   100100050     3.000      1.000     1320.000 11090.000   1.000       0.000   \n",
       "2  1001200035     3.000      1.000     1350.000  7973.000   1.500         NaN   \n",
       "3  1001200050     4.000      1.500     1260.000  7248.000   1.500         NaN   \n",
       "4  1003000175     3.000      1.000      980.000  7606.000   1.000       0.000   \n",
       "\n",
       "   view  condition  grade  sqft_above  sqft_basement  yr_built  yr_renovated  \\\n",
       "0 0.000          3      7    2400.000          0.000      1991         0.000   \n",
       "1 0.000          3      7    1320.000          0.000      1955         0.000   \n",
       "2 0.000          3      7    1350.000          0.000      1954         0.000   \n",
       "3 0.000          5      7    1260.000          0.000      1955           NaN   \n",
       "4 0.000          3      7     980.000          0.000      1954         0.000   \n",
       "\n",
       "  zipcode    lat     long  sqft_living15  sqft_lot15  \n",
       "0   98002 47.326 -122.214       2060.000    7316.000  \n",
       "1   98155 47.775 -122.304       1320.000    8319.000  \n",
       "2   98188 47.432 -122.292       1310.000    7491.000  \n",
       "3   98188 47.433 -122.292       1300.000    7732.000  \n",
       "4   98188 47.436 -122.290        980.000    8125.000  "
      ]
     },
     "execution_count": 23,
     "metadata": {},
     "output_type": "execute_result"
    }
   ],
   "source": [
    "df_detail.head()"
   ]
  },
  {
   "cell_type": "code",
   "execution_count": 24,
   "metadata": {
    "tags": []
   },
   "outputs": [
    {
     "data": {
      "text/html": [
       "<div>\n",
       "<style scoped>\n",
       "    .dataframe tbody tr th:only-of-type {\n",
       "        vertical-align: middle;\n",
       "    }\n",
       "\n",
       "    .dataframe tbody tr th {\n",
       "        vertical-align: top;\n",
       "    }\n",
       "\n",
       "    .dataframe thead th {\n",
       "        text-align: right;\n",
       "    }\n",
       "</style>\n",
       "<table border=\"1\" class=\"dataframe\">\n",
       "  <thead>\n",
       "    <tr style=\"text-align: right;\">\n",
       "      <th></th>\n",
       "      <th>id</th>\n",
       "      <th>bedrooms</th>\n",
       "      <th>bathrooms</th>\n",
       "      <th>sqft_living</th>\n",
       "      <th>sqft_lot</th>\n",
       "      <th>floors</th>\n",
       "      <th>waterfront</th>\n",
       "      <th>view</th>\n",
       "      <th>condition</th>\n",
       "      <th>grade</th>\n",
       "      <th>sqft_above</th>\n",
       "      <th>sqft_basement</th>\n",
       "      <th>yr_built</th>\n",
       "      <th>yr_renovated</th>\n",
       "      <th>zipcode</th>\n",
       "      <th>lat</th>\n",
       "      <th>long</th>\n",
       "      <th>sqft_living15</th>\n",
       "      <th>sqft_lot15</th>\n",
       "      <th>yr_r_clean</th>\n",
       "    </tr>\n",
       "  </thead>\n",
       "  <tbody>\n",
       "    <tr>\n",
       "      <th>0</th>\n",
       "      <td>1000102</td>\n",
       "      <td>6.000</td>\n",
       "      <td>3.000</td>\n",
       "      <td>2400.000</td>\n",
       "      <td>9373.000</td>\n",
       "      <td>2.000</td>\n",
       "      <td>NaN</td>\n",
       "      <td>0.000</td>\n",
       "      <td>3</td>\n",
       "      <td>7</td>\n",
       "      <td>2400.000</td>\n",
       "      <td>0.000</td>\n",
       "      <td>1991</td>\n",
       "      <td>0.000</td>\n",
       "      <td>98002</td>\n",
       "      <td>47.326</td>\n",
       "      <td>-122.214</td>\n",
       "      <td>2060.000</td>\n",
       "      <td>7316.000</td>\n",
       "      <td>NaN</td>\n",
       "    </tr>\n",
       "    <tr>\n",
       "      <th>1</th>\n",
       "      <td>100100050</td>\n",
       "      <td>3.000</td>\n",
       "      <td>1.000</td>\n",
       "      <td>1320.000</td>\n",
       "      <td>11090.000</td>\n",
       "      <td>1.000</td>\n",
       "      <td>0.000</td>\n",
       "      <td>0.000</td>\n",
       "      <td>3</td>\n",
       "      <td>7</td>\n",
       "      <td>1320.000</td>\n",
       "      <td>0.000</td>\n",
       "      <td>1955</td>\n",
       "      <td>0.000</td>\n",
       "      <td>98155</td>\n",
       "      <td>47.775</td>\n",
       "      <td>-122.304</td>\n",
       "      <td>1320.000</td>\n",
       "      <td>8319.000</td>\n",
       "      <td>NaN</td>\n",
       "    </tr>\n",
       "    <tr>\n",
       "      <th>2</th>\n",
       "      <td>1001200035</td>\n",
       "      <td>3.000</td>\n",
       "      <td>1.000</td>\n",
       "      <td>1350.000</td>\n",
       "      <td>7973.000</td>\n",
       "      <td>1.500</td>\n",
       "      <td>NaN</td>\n",
       "      <td>0.000</td>\n",
       "      <td>3</td>\n",
       "      <td>7</td>\n",
       "      <td>1350.000</td>\n",
       "      <td>0.000</td>\n",
       "      <td>1954</td>\n",
       "      <td>0.000</td>\n",
       "      <td>98188</td>\n",
       "      <td>47.432</td>\n",
       "      <td>-122.292</td>\n",
       "      <td>1310.000</td>\n",
       "      <td>7491.000</td>\n",
       "      <td>NaN</td>\n",
       "    </tr>\n",
       "    <tr>\n",
       "      <th>3</th>\n",
       "      <td>1001200050</td>\n",
       "      <td>4.000</td>\n",
       "      <td>1.500</td>\n",
       "      <td>1260.000</td>\n",
       "      <td>7248.000</td>\n",
       "      <td>1.500</td>\n",
       "      <td>NaN</td>\n",
       "      <td>0.000</td>\n",
       "      <td>5</td>\n",
       "      <td>7</td>\n",
       "      <td>1260.000</td>\n",
       "      <td>0.000</td>\n",
       "      <td>1955</td>\n",
       "      <td>NaN</td>\n",
       "      <td>98188</td>\n",
       "      <td>47.433</td>\n",
       "      <td>-122.292</td>\n",
       "      <td>1300.000</td>\n",
       "      <td>7732.000</td>\n",
       "      <td>NaN</td>\n",
       "    </tr>\n",
       "    <tr>\n",
       "      <th>4</th>\n",
       "      <td>1003000175</td>\n",
       "      <td>3.000</td>\n",
       "      <td>1.000</td>\n",
       "      <td>980.000</td>\n",
       "      <td>7606.000</td>\n",
       "      <td>1.000</td>\n",
       "      <td>0.000</td>\n",
       "      <td>0.000</td>\n",
       "      <td>3</td>\n",
       "      <td>7</td>\n",
       "      <td>980.000</td>\n",
       "      <td>0.000</td>\n",
       "      <td>1954</td>\n",
       "      <td>0.000</td>\n",
       "      <td>98188</td>\n",
       "      <td>47.436</td>\n",
       "      <td>-122.290</td>\n",
       "      <td>980.000</td>\n",
       "      <td>8125.000</td>\n",
       "      <td>NaN</td>\n",
       "    </tr>\n",
       "  </tbody>\n",
       "</table>\n",
       "</div>"
      ],
      "text/plain": [
       "           id  bedrooms  bathrooms  sqft_living  sqft_lot  floors  waterfront  \\\n",
       "0     1000102     6.000      3.000     2400.000  9373.000   2.000         NaN   \n",
       "1   100100050     3.000      1.000     1320.000 11090.000   1.000       0.000   \n",
       "2  1001200035     3.000      1.000     1350.000  7973.000   1.500         NaN   \n",
       "3  1001200050     4.000      1.500     1260.000  7248.000   1.500         NaN   \n",
       "4  1003000175     3.000      1.000      980.000  7606.000   1.000       0.000   \n",
       "\n",
       "   view  condition  grade  sqft_above  sqft_basement  yr_built  yr_renovated  \\\n",
       "0 0.000          3      7    2400.000          0.000      1991         0.000   \n",
       "1 0.000          3      7    1320.000          0.000      1955         0.000   \n",
       "2 0.000          3      7    1350.000          0.000      1954         0.000   \n",
       "3 0.000          5      7    1260.000          0.000      1955           NaN   \n",
       "4 0.000          3      7     980.000          0.000      1954         0.000   \n",
       "\n",
       "  zipcode    lat     long  sqft_living15  sqft_lot15  yr_r_clean  \n",
       "0   98002 47.326 -122.214       2060.000    7316.000         NaN  \n",
       "1   98155 47.775 -122.304       1320.000    8319.000         NaN  \n",
       "2   98188 47.432 -122.292       1310.000    7491.000         NaN  \n",
       "3   98188 47.433 -122.292       1300.000    7732.000         NaN  \n",
       "4   98188 47.436 -122.290        980.000    8125.000         NaN  "
      ]
     },
     "execution_count": 24,
     "metadata": {},
     "output_type": "execute_result"
    }
   ],
   "source": [
    "# Check yr_renovated\n",
    "df_detail.yr_renovated.unique()\n",
    "\n",
    "# Problematic in current form, needs cleaning.\n",
    "def clean_yr(checklist):\n",
    "    checklist = checklist.fillna(0)\n",
    "    catchlist = [i[0:4] if i != '0.0' else np.nan for i in checklist.astype(str)]\n",
    "    catchlist = pd.to_datetime(catchlist, format = '%Y', errors = 'coerce')\n",
    "    return catchlist\n",
    "    \n",
    "df_detail['yr_r_clean'] = clean_yr(df_detail['yr_renovated'])\n",
    "df_detail['yr_r_clean'] = df_detail.yr_r_clean.dt.year # somehow it didnt convert it ot datetime before, so use this line again.\n",
    "df_detail.head()"
   ]
  },
  {
   "cell_type": "code",
   "execution_count": 25,
   "metadata": {
    "tags": []
   },
   "outputs": [
    {
     "data": {
      "text/html": [
       "<div>\n",
       "<style scoped>\n",
       "    .dataframe tbody tr th:only-of-type {\n",
       "        vertical-align: middle;\n",
       "    }\n",
       "\n",
       "    .dataframe tbody tr th {\n",
       "        vertical-align: top;\n",
       "    }\n",
       "\n",
       "    .dataframe thead th {\n",
       "        text-align: right;\n",
       "    }\n",
       "</style>\n",
       "<table border=\"1\" class=\"dataframe\">\n",
       "  <thead>\n",
       "    <tr style=\"text-align: right;\">\n",
       "      <th></th>\n",
       "      <th>id</th>\n",
       "      <th>bedrooms</th>\n",
       "      <th>bathrooms</th>\n",
       "      <th>sqft_living</th>\n",
       "      <th>sqft_lot</th>\n",
       "      <th>floors</th>\n",
       "      <th>waterfront</th>\n",
       "      <th>view</th>\n",
       "      <th>condition</th>\n",
       "      <th>grade</th>\n",
       "      <th>...</th>\n",
       "      <th>yr_built</th>\n",
       "      <th>yr_renovated</th>\n",
       "      <th>zipcode</th>\n",
       "      <th>lat</th>\n",
       "      <th>long</th>\n",
       "      <th>sqft_living15</th>\n",
       "      <th>sqft_lot15</th>\n",
       "      <th>yr_r_clean</th>\n",
       "      <th>yr_bin</th>\n",
       "      <th>yr_r_time</th>\n",
       "    </tr>\n",
       "  </thead>\n",
       "  <tbody>\n",
       "    <tr>\n",
       "      <th>0</th>\n",
       "      <td>1000102</td>\n",
       "      <td>6.000</td>\n",
       "      <td>3.000</td>\n",
       "      <td>2400.000</td>\n",
       "      <td>9373.000</td>\n",
       "      <td>2.000</td>\n",
       "      <td>NaN</td>\n",
       "      <td>0.000</td>\n",
       "      <td>3</td>\n",
       "      <td>7</td>\n",
       "      <td>...</td>\n",
       "      <td>1991</td>\n",
       "      <td>0.000</td>\n",
       "      <td>98002</td>\n",
       "      <td>47.326</td>\n",
       "      <td>-122.214</td>\n",
       "      <td>2060.000</td>\n",
       "      <td>7316.000</td>\n",
       "      <td>NaN</td>\n",
       "      <td>False</td>\n",
       "      <td>NaN</td>\n",
       "    </tr>\n",
       "    <tr>\n",
       "      <th>1</th>\n",
       "      <td>100100050</td>\n",
       "      <td>3.000</td>\n",
       "      <td>1.000</td>\n",
       "      <td>1320.000</td>\n",
       "      <td>11090.000</td>\n",
       "      <td>1.000</td>\n",
       "      <td>0.000</td>\n",
       "      <td>0.000</td>\n",
       "      <td>3</td>\n",
       "      <td>7</td>\n",
       "      <td>...</td>\n",
       "      <td>1955</td>\n",
       "      <td>0.000</td>\n",
       "      <td>98155</td>\n",
       "      <td>47.775</td>\n",
       "      <td>-122.304</td>\n",
       "      <td>1320.000</td>\n",
       "      <td>8319.000</td>\n",
       "      <td>NaN</td>\n",
       "      <td>False</td>\n",
       "      <td>NaN</td>\n",
       "    </tr>\n",
       "    <tr>\n",
       "      <th>2</th>\n",
       "      <td>1001200035</td>\n",
       "      <td>3.000</td>\n",
       "      <td>1.000</td>\n",
       "      <td>1350.000</td>\n",
       "      <td>7973.000</td>\n",
       "      <td>1.500</td>\n",
       "      <td>NaN</td>\n",
       "      <td>0.000</td>\n",
       "      <td>3</td>\n",
       "      <td>7</td>\n",
       "      <td>...</td>\n",
       "      <td>1954</td>\n",
       "      <td>0.000</td>\n",
       "      <td>98188</td>\n",
       "      <td>47.432</td>\n",
       "      <td>-122.292</td>\n",
       "      <td>1310.000</td>\n",
       "      <td>7491.000</td>\n",
       "      <td>NaN</td>\n",
       "      <td>False</td>\n",
       "      <td>NaN</td>\n",
       "    </tr>\n",
       "    <tr>\n",
       "      <th>3</th>\n",
       "      <td>1001200050</td>\n",
       "      <td>4.000</td>\n",
       "      <td>1.500</td>\n",
       "      <td>1260.000</td>\n",
       "      <td>7248.000</td>\n",
       "      <td>1.500</td>\n",
       "      <td>NaN</td>\n",
       "      <td>0.000</td>\n",
       "      <td>5</td>\n",
       "      <td>7</td>\n",
       "      <td>...</td>\n",
       "      <td>1955</td>\n",
       "      <td>NaN</td>\n",
       "      <td>98188</td>\n",
       "      <td>47.433</td>\n",
       "      <td>-122.292</td>\n",
       "      <td>1300.000</td>\n",
       "      <td>7732.000</td>\n",
       "      <td>NaN</td>\n",
       "      <td>False</td>\n",
       "      <td>NaN</td>\n",
       "    </tr>\n",
       "    <tr>\n",
       "      <th>4</th>\n",
       "      <td>1003000175</td>\n",
       "      <td>3.000</td>\n",
       "      <td>1.000</td>\n",
       "      <td>980.000</td>\n",
       "      <td>7606.000</td>\n",
       "      <td>1.000</td>\n",
       "      <td>0.000</td>\n",
       "      <td>0.000</td>\n",
       "      <td>3</td>\n",
       "      <td>7</td>\n",
       "      <td>...</td>\n",
       "      <td>1954</td>\n",
       "      <td>0.000</td>\n",
       "      <td>98188</td>\n",
       "      <td>47.436</td>\n",
       "      <td>-122.290</td>\n",
       "      <td>980.000</td>\n",
       "      <td>8125.000</td>\n",
       "      <td>NaN</td>\n",
       "      <td>False</td>\n",
       "      <td>NaN</td>\n",
       "    </tr>\n",
       "  </tbody>\n",
       "</table>\n",
       "<p>5 rows × 22 columns</p>\n",
       "</div>"
      ],
      "text/plain": [
       "           id  bedrooms  bathrooms  sqft_living  sqft_lot  floors  waterfront  \\\n",
       "0     1000102     6.000      3.000     2400.000  9373.000   2.000         NaN   \n",
       "1   100100050     3.000      1.000     1320.000 11090.000   1.000       0.000   \n",
       "2  1001200035     3.000      1.000     1350.000  7973.000   1.500         NaN   \n",
       "3  1001200050     4.000      1.500     1260.000  7248.000   1.500         NaN   \n",
       "4  1003000175     3.000      1.000      980.000  7606.000   1.000       0.000   \n",
       "\n",
       "   view  condition  grade  ...  yr_built  yr_renovated  zipcode    lat  \\\n",
       "0 0.000          3      7  ...      1991         0.000    98002 47.326   \n",
       "1 0.000          3      7  ...      1955         0.000    98155 47.775   \n",
       "2 0.000          3      7  ...      1954         0.000    98188 47.432   \n",
       "3 0.000          5      7  ...      1955           NaN    98188 47.433   \n",
       "4 0.000          3      7  ...      1954         0.000    98188 47.436   \n",
       "\n",
       "      long  sqft_living15  sqft_lot15  yr_r_clean  yr_bin  yr_r_time  \n",
       "0 -122.214       2060.000    7316.000         NaN   False        NaN  \n",
       "1 -122.304       1320.000    8319.000         NaN   False        NaN  \n",
       "2 -122.292       1310.000    7491.000         NaN   False        NaN  \n",
       "3 -122.292       1300.000    7732.000         NaN   False        NaN  \n",
       "4 -122.290        980.000    8125.000         NaN   False        NaN  \n",
       "\n",
       "[5 rows x 22 columns]"
      ]
     },
     "execution_count": 25,
     "metadata": {},
     "output_type": "execute_result"
    }
   ],
   "source": [
    "# create additional informations regarding renovation.\n",
    "# This is important to answer the clients questions.\n",
    "\n",
    "# binary if renovation took place or not:\n",
    "df_detail['yr_bin'] = df_detail['yr_r_clean'].notnull()\n",
    "\n",
    "# change yr_built to datetime\n",
    "df_detail.yr_built = pd.to_datetime(df_detail.yr_built, format = '%Y')\n",
    "df_detail.yr_built = df_detail.yr_built.dt.year\n",
    "\n",
    "# calculate difference between built and renovation\n",
    "df_detail['yr_r_time'] = df_detail['yr_r_clean'].sub(df_detail['yr_built'])\n",
    "\n",
    "df_detail.head()"
   ]
  },
  {
   "cell_type": "markdown",
   "metadata": {},
   "source": [
    "### Time to combine datasets\n",
    "For now it was ok to handle each dataset separate, now it is time to combine them and check further relationships."
   ]
  },
  {
   "cell_type": "code",
   "execution_count": 26,
   "metadata": {
    "tags": []
   },
   "outputs": [
    {
     "name": "stdout",
     "output_type": "stream",
     "text": [
      "Index(['date', 'price', 'house_id', 'id', 'year_month', 'bedrooms',\n",
      "       'bathrooms', 'sqft_living', 'sqft_lot', 'floors', 'waterfront', 'view',\n",
      "       'condition', 'grade', 'sqft_above', 'sqft_basement', 'yr_built',\n",
      "       'yr_renovated', 'zipcode', 'lat', 'long', 'sqft_living15', 'sqft_lot15',\n",
      "       'yr_r_clean', 'yr_bin', 'yr_r_time'],\n",
      "      dtype='object')\n"
     ]
    },
    {
     "data": {
      "text/html": [
       "<div>\n",
       "<style scoped>\n",
       "    .dataframe tbody tr th:only-of-type {\n",
       "        vertical-align: middle;\n",
       "    }\n",
       "\n",
       "    .dataframe tbody tr th {\n",
       "        vertical-align: top;\n",
       "    }\n",
       "\n",
       "    .dataframe thead th {\n",
       "        text-align: right;\n",
       "    }\n",
       "</style>\n",
       "<table border=\"1\" class=\"dataframe\">\n",
       "  <thead>\n",
       "    <tr style=\"text-align: right;\">\n",
       "      <th></th>\n",
       "      <th>date</th>\n",
       "      <th>price</th>\n",
       "      <th>house_id</th>\n",
       "      <th>id</th>\n",
       "      <th>year_month</th>\n",
       "      <th>bedrooms</th>\n",
       "      <th>bathrooms</th>\n",
       "      <th>sqft_living</th>\n",
       "      <th>sqft_lot</th>\n",
       "      <th>floors</th>\n",
       "      <th>...</th>\n",
       "      <th>yr_built</th>\n",
       "      <th>yr_renovated</th>\n",
       "      <th>zipcode</th>\n",
       "      <th>lat</th>\n",
       "      <th>long</th>\n",
       "      <th>sqft_living15</th>\n",
       "      <th>sqft_lot15</th>\n",
       "      <th>yr_r_clean</th>\n",
       "      <th>yr_bin</th>\n",
       "      <th>yr_r_time</th>\n",
       "    </tr>\n",
       "  </thead>\n",
       "  <tbody>\n",
       "    <tr>\n",
       "      <th>0</th>\n",
       "      <td>2014-05-03</td>\n",
       "      <td>379880.000</td>\n",
       "      <td>1523069197</td>\n",
       "      <td>13154</td>\n",
       "      <td>2014-05</td>\n",
       "      <td>3.000</td>\n",
       "      <td>2.500</td>\n",
       "      <td>1650.000</td>\n",
       "      <td>14054.000</td>\n",
       "      <td>1.000</td>\n",
       "      <td>...</td>\n",
       "      <td>1986</td>\n",
       "      <td>0.000</td>\n",
       "      <td>98027</td>\n",
       "      <td>47.482</td>\n",
       "      <td>-122.017</td>\n",
       "      <td>1940.000</td>\n",
       "      <td>87555.000</td>\n",
       "      <td>NaN</td>\n",
       "      <td>False</td>\n",
       "      <td>NaN</td>\n",
       "    </tr>\n",
       "    <tr>\n",
       "      <th>1</th>\n",
       "      <td>2014-05-14</td>\n",
       "      <td>766950.000</td>\n",
       "      <td>7574910780</td>\n",
       "      <td>5351</td>\n",
       "      <td>2014-05</td>\n",
       "      <td>3.000</td>\n",
       "      <td>2.500</td>\n",
       "      <td>3030.000</td>\n",
       "      <td>30007.000</td>\n",
       "      <td>1.500</td>\n",
       "      <td>...</td>\n",
       "      <td>1992</td>\n",
       "      <td>0.000</td>\n",
       "      <td>98077</td>\n",
       "      <td>47.743</td>\n",
       "      <td>-122.036</td>\n",
       "      <td>3360.000</td>\n",
       "      <td>34983.000</td>\n",
       "      <td>NaN</td>\n",
       "      <td>False</td>\n",
       "      <td>NaN</td>\n",
       "    </tr>\n",
       "    <tr>\n",
       "      <th>2</th>\n",
       "      <td>2014-05-09</td>\n",
       "      <td>201500.000</td>\n",
       "      <td>8857600490</td>\n",
       "      <td>9381</td>\n",
       "      <td>2014-05</td>\n",
       "      <td>3.000</td>\n",
       "      <td>1.000</td>\n",
       "      <td>1160.000</td>\n",
       "      <td>8320.000</td>\n",
       "      <td>1.000</td>\n",
       "      <td>...</td>\n",
       "      <td>1959</td>\n",
       "      <td>0.000</td>\n",
       "      <td>98032</td>\n",
       "      <td>47.383</td>\n",
       "      <td>-122.288</td>\n",
       "      <td>1480.000</td>\n",
       "      <td>7800.000</td>\n",
       "      <td>NaN</td>\n",
       "      <td>False</td>\n",
       "      <td>NaN</td>\n",
       "    </tr>\n",
       "    <tr>\n",
       "      <th>3</th>\n",
       "      <td>2014-05-07</td>\n",
       "      <td>280000.000</td>\n",
       "      <td>2895550280</td>\n",
       "      <td>16329</td>\n",
       "      <td>2014-05</td>\n",
       "      <td>3.000</td>\n",
       "      <td>2.500</td>\n",
       "      <td>1600.000</td>\n",
       "      <td>4271.000</td>\n",
       "      <td>2.000</td>\n",
       "      <td>...</td>\n",
       "      <td>2000</td>\n",
       "      <td>0.000</td>\n",
       "      <td>98001</td>\n",
       "      <td>47.330</td>\n",
       "      <td>-122.269</td>\n",
       "      <td>1700.000</td>\n",
       "      <td>4746.000</td>\n",
       "      <td>NaN</td>\n",
       "      <td>False</td>\n",
       "      <td>NaN</td>\n",
       "    </tr>\n",
       "    <tr>\n",
       "      <th>4</th>\n",
       "      <td>2014-05-21</td>\n",
       "      <td>189650.000</td>\n",
       "      <td>9315300260</td>\n",
       "      <td>1833</td>\n",
       "      <td>2014-05</td>\n",
       "      <td>2.000</td>\n",
       "      <td>1.750</td>\n",
       "      <td>1100.000</td>\n",
       "      <td>7600.000</td>\n",
       "      <td>1.000</td>\n",
       "      <td>...</td>\n",
       "      <td>1980</td>\n",
       "      <td>0.000</td>\n",
       "      <td>98198</td>\n",
       "      <td>47.414</td>\n",
       "      <td>-122.318</td>\n",
       "      <td>1230.000</td>\n",
       "      <td>7350.000</td>\n",
       "      <td>NaN</td>\n",
       "      <td>False</td>\n",
       "      <td>NaN</td>\n",
       "    </tr>\n",
       "  </tbody>\n",
       "</table>\n",
       "<p>5 rows × 26 columns</p>\n",
       "</div>"
      ],
      "text/plain": [
       "        date      price    house_id     id year_month  bedrooms  bathrooms  \\\n",
       "0 2014-05-03 379880.000  1523069197  13154    2014-05     3.000      2.500   \n",
       "1 2014-05-14 766950.000  7574910780   5351    2014-05     3.000      2.500   \n",
       "2 2014-05-09 201500.000  8857600490   9381    2014-05     3.000      1.000   \n",
       "3 2014-05-07 280000.000  2895550280  16329    2014-05     3.000      2.500   \n",
       "4 2014-05-21 189650.000  9315300260   1833    2014-05     2.000      1.750   \n",
       "\n",
       "   sqft_living  sqft_lot  floors  ...  yr_built  yr_renovated  zipcode    lat  \\\n",
       "0     1650.000 14054.000   1.000  ...      1986         0.000    98027 47.482   \n",
       "1     3030.000 30007.000   1.500  ...      1992         0.000    98077 47.743   \n",
       "2     1160.000  8320.000   1.000  ...      1959         0.000    98032 47.383   \n",
       "3     1600.000  4271.000   2.000  ...      2000         0.000    98001 47.330   \n",
       "4     1100.000  7600.000   1.000  ...      1980         0.000    98198 47.414   \n",
       "\n",
       "      long  sqft_living15  sqft_lot15  yr_r_clean yr_bin  yr_r_time  \n",
       "0 -122.017       1940.000   87555.000         NaN  False        NaN  \n",
       "1 -122.036       3360.000   34983.000         NaN  False        NaN  \n",
       "2 -122.288       1480.000    7800.000         NaN  False        NaN  \n",
       "3 -122.269       1700.000    4746.000         NaN  False        NaN  \n",
       "4 -122.318       1230.000    7350.000         NaN  False        NaN  \n",
       "\n",
       "[5 rows x 26 columns]"
      ]
     },
     "execution_count": 26,
     "metadata": {},
     "output_type": "execute_result"
    }
   ],
   "source": [
    "df_detail.rename(columns = {'id':'house_id'}, inplace = True)\n",
    "df_total = df_sales.merge(df_detail, on = 'house_id', how='left')\n",
    "print(df_total.columns)\n",
    "df_total.head()"
   ]
  },
  {
   "cell_type": "markdown",
   "metadata": {},
   "source": [
    "### Things to understand\n",
    "There are still some questions open:\n",
    " 1. Are grades getting better by increase or by decrease?\n",
    " 2. Is the view getting better by increase or by decrease?\n",
    " \n",
    "When those questions are answered, it is time to check the correlation and try to reduce the amount of columns for a clearer picture.\n",
    " "
   ]
  },
  {
   "cell_type": "code",
   "execution_count": 27,
   "metadata": {
    "tags": []
   },
   "outputs": [
    {
     "data": {
      "image/png": "[encoded data removed]",
      "text/plain": [
       "<Figure size 800x800 with 1 Axes>"
      ]
     },
     "metadata": {},
     "output_type": "display_data"
    }
   ],
   "source": [
    "# Answer Q1:\n",
    "price_per_grade = sns.barplot(df_total.sort_values('grade'),\n",
    "           x = 'grade',\n",
    "           y = df_total.sort_values('grade').price / 1000000,\n",
    "           color = '#a3b0ce',\n",
    "           ci = False)\n",
    "\n",
    "sns.despine(top=True, right=True, left=False, bottom=False)\n",
    "price_per_grade.axhline(df_total.price.mean()/1000000, color = 'red')\n",
    "plt.title('Prices of Houses by King County Grade System', loc = 'left')\n",
    "plt.xlabel('King County Grades')\n",
    "plt.ylabel('House prices [million US-$]')\n",
    "\n",
    "fig = price_per_grade.get_figure()\n",
    "fig.savefig(\"./plots/exploration/03_price_grade.png\")"
   ]
  },
  {
   "cell_type": "code",
   "execution_count": 28,
   "metadata": {
    "tags": []
   },
   "outputs": [
    {
     "data": {
      "image/png": "[encoded data removed]",
      "text/plain": [
       "<Figure size 800x800 with 1 Axes>"
      ]
     },
     "metadata": {},
     "output_type": "display_data"
    }
   ],
   "source": [
    "# Answer Q2:\n",
    "price_per_view = sns.barplot(df_total.sort_values('view'),\n",
    "           x = 'view',\n",
    "           y = df_total.sort_values('view').price / 1000000,\n",
    "           color = '#a3b0ce',\n",
    "           ci = False)\n",
    "\n",
    "sns.despine(top=True, right=True, left=False, bottom=False)\n",
    "price_per_view.axhline(df_total.price.mean()/1000000, color = 'red')\n",
    "plt.title('Prices of Houses by View Category', loc = 'left')\n",
    "plt.xlabel('View Category')\n",
    "plt.ylabel('House prices [million US-$]')\n",
    "\n",
    "fig = price_per_view.get_figure()\n",
    "fig.savefig(\"./plots/exploration/04_price_view.png\")"
   ]
  },
  {
   "cell_type": "code",
   "execution_count": 29,
   "metadata": {
    "tags": []
   },
   "outputs": [
    {
     "data": {
      "text/plain": [
       "63"
      ]
     },
     "execution_count": 29,
     "metadata": {},
     "output_type": "execute_result"
    }
   ],
   "source": [
    "df_total.view.isnull().sum()"
   ]
  },
  {
   "cell_type": "code",
   "execution_count": 30,
   "metadata": {
    "tags": []
   },
   "outputs": [
    {
     "data": {
      "image/png": "[encoded data removed]",
      "text/plain": [
       "<Figure size 800x800 with 1 Axes>"
      ]
     },
     "metadata": {},
     "output_type": "display_data"
    }
   ],
   "source": [
    "view_hist = sns.histplot(df_total, x = df_total.view.astype(object),\n",
    "                         color = '#a3b0ce')\n",
    "sns.despine(top=True, right=True, left=False, bottom=False)\n",
    "plt.title('Histogram of View Categories', loc = 'left')\n",
    "plt.xlabel('View Category')\n",
    "plt.xticks(range(5))\n",
    "\n",
    "fig = view_hist.get_figure()\n",
    "fig.savefig(\"./plots/exploration/05_hist_view.png\")"
   ]
  },
  {
   "cell_type": "code",
   "execution_count": 31,
   "metadata": {
    "tags": []
   },
   "outputs": [
    {
     "data": {
      "text/plain": [
       "Index(['date', 'price', 'house_id', 'id', 'year_month', 'bedrooms',\n",
       "       'bathrooms', 'sqft_living', 'sqft_lot', 'floors', 'waterfront', 'view',\n",
       "       'condition', 'grade', 'sqft_above', 'sqft_basement', 'yr_built',\n",
       "       'yr_renovated', 'zipcode', 'lat', 'long', 'sqft_living15', 'sqft_lot15',\n",
       "       'yr_r_clean', 'yr_bin', 'yr_r_time'],\n",
       "      dtype='object')"
      ]
     },
     "execution_count": 31,
     "metadata": {},
     "output_type": "execute_result"
    }
   ],
   "source": [
    "df_total.columns"
   ]
  },
  {
   "cell_type": "code",
   "execution_count": 32,
   "metadata": {
    "tags": []
   },
   "outputs": [
    {
     "data": {
      "image/png": "[encoded data removed]",
      "text/plain": [
       "<Figure size 800x800 with 2 Axes>"
      ]
     },
     "metadata": {},
     "output_type": "display_data"
    }
   ],
   "source": [
    "# Check Correlations!\n",
    "matrix = df_total[['price', \n",
    "                      'bedrooms',\n",
    "                      'bathrooms',\n",
    "                      'sqft_living',\n",
    "                      'sqft_lot',\n",
    "                      'floors',\n",
    "                      'waterfront',\n",
    "                      'view',\n",
    "                      'condition',\n",
    "                      'grade',\n",
    "                      'sqft_above',\n",
    "                      'sqft_basement',\n",
    "                      'yr_built',\n",
    "                      'yr_r_clean',\n",
    "                      'sqft_living15',\n",
    "                      'sqft_lot15']].corr().round(2)\n",
    "mask = np.triu(np.ones_like(matrix, dtype=bool))\n",
    "sns.heatmap(matrix, annot=True, vmax=1, vmin=-1, center=0, cmap='vlag', mask=mask)\n",
    "plt.show()"
   ]
  },
  {
   "cell_type": "markdown",
   "metadata": {},
   "source": [
    "## Problems / Tasks\n",
    " * How to quantify \"big returns\"?\n",
    " * How to check if renovation is worth it?\n",
    " * How to check for appropiate neighborhoods?\n",
    " * What are the best times for actions? (understand multiple layers.)"
   ]
  },
  {
   "cell_type": "markdown",
   "metadata": {},
   "source": [
    "---\n",
    "## 4. Gameplan and Structure of Analyses\n",
    "Easy Definition of return: 'Money made or lost on an investment over a period of time'. <br></br>\n",
    "What is a \"big return\"? -> Define it. <br></br>\n",
    "\n",
    "How to get a positive return:\n",
    " * Buy cheap, sell expensive!\n",
    " \n",
    "Tactics:\n",
    " * Use periodical fluctuation.\n",
    " * Look for underestimated options (current or by renovation).\n",
    "\n",
    "The period of time plays a role. With my dataset, I can check explicitly for a one year period. So there are at least two things I can check:\n",
    " 1. What is the best time for buy and sell within a year (pricewise and countwise)? (Conquers with Point 4)\n",
    " 2. What are the characteristica of houses, that were resold within a year and ...\n",
    " 3. When were they sold? Did they have a positive or negative return? What are important points for a high return (big return needs to be defined)?\n",
    " <br></br>\n",
    " \n",
    "Another option to check for possible, big returns lies within the lower quantile within each housing category. Look for houses that were sold for way lower prices than expected.\n",
    "\n",
    "\n",
    "Tasks:\n",
    " 1. Show periodic fluctuation of prices (barplot, maybe add number of sales via line)\n",
    " 2. Show the most prominent characteristica of houses resold within one year for short-term trading options. (Re-think how to show that)\n",
    " 3. Check for house categories with the highest ranges in prices and check the differences between lower and upper quantiles. If there are no big differences, possible indicator to buy. If there are differences, check if a renovation could make sense.\n",
    " 4. Check if renovation time is a good indicator for prices (after how many years it has been renovated and also, how many years after renovation it has been sold?)\n",
    " 5. Client wants to know about neighborhoods. Try to link it with house categories for chances!\n",
    " \n",
    "### Wanted output\n",
    " * Graphs to show the data, including chances and limitations.\n",
    " * Broader idea of where to look for investment possibilities.\n",
    " * Give clear:\n",
    " 1. Introduction to Chances and Limitation of Dataset \n",
    " 2. Thought process for high return.\n",
    " 3. House categories with highest price/chance to resell. (including list of hot candidates)\n",
    " 4. House with the highest chance of higher resell price AFTER renovation(be cautious again)\n",
    " 5. 3 best and worst neighborhoods to look at for houses (hot/cold, maybe map? -> only if clear trend).\n",
    " 5. Periodic advice for buy/sell and renovation (time after build and time after sale) (but don't miss the problems)\n",
    "\n",
    "\n",
    "### Caution \n",
    " * I only have one year data. This is not a solid foundation for future predicitions.\n",
    " * I do not have price development data over time, so it is hard to make good long-term decisions.\n",
    " * I can't be sure if the price development of the last year will be true for the next year either.\n",
    " * I don't know what the house were worth before renovation.\n",
    " * I don't know, what the renovations looked like .\n",
    " * I don't know how much the renovation did cost.\n",
    " * I don't know how long the renovation took."
   ]
  },
  {
   "cell_type": "code",
   "execution_count": 33,
   "metadata": {},
   "outputs": [],
   "source": [
    "# Export dataset:\n",
    "df_total.to_csv('./data/processed_data.csv', index = False)"
   ]
  }
 ],
 "metadata": {
  "kernelspec": {
   "display_name": "Python 3 (ipykernel)",
   "language": "python",
   "name": "python3"
  },
  "language_info": {
   "codemirror_mode": {
    "name": "ipython",
    "version": 3
   },
   "file_extension": ".py",
   "mimetype": "text/x-python",
   "name": "python",
   "nbconvert_exporter": "python",
   "pygments_lexer": "ipython3",
   "version": "3.11.3"
  }
 },
 "nbformat": 4,
 "nbformat_minor": 4
}
